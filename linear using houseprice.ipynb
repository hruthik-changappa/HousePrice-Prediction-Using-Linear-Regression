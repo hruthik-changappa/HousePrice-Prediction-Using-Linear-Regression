{
 "cells": [
  {
   "cell_type": "code",
   "execution_count": 1,
   "metadata": {},
   "outputs": [],
   "source": [
    "import pandas as pd\n",
    "import numpy as np\n",
    "import matplotlib.pyplot as plt"
   ]
  },
  {
   "cell_type": "code",
   "execution_count": 2,
   "metadata": {},
   "outputs": [],
   "source": [
    "df=pd.read_csv(\"houseprice.csv\")\n"
   ]
  },
  {
   "cell_type": "code",
   "execution_count": 3,
   "metadata": {},
   "outputs": [
    {
     "data": {
      "text/html": [
       "<div>\n",
       "<style scoped>\n",
       "    .dataframe tbody tr th:only-of-type {\n",
       "        vertical-align: middle;\n",
       "    }\n",
       "\n",
       "    .dataframe tbody tr th {\n",
       "        vertical-align: top;\n",
       "    }\n",
       "\n",
       "    .dataframe thead th {\n",
       "        text-align: right;\n",
       "    }\n",
       "</style>\n",
       "<table border=\"1\" class=\"dataframe\">\n",
       "  <thead>\n",
       "    <tr style=\"text-align: right;\">\n",
       "      <th></th>\n",
       "      <th>sqft</th>\n",
       "      <th>SalePrice</th>\n",
       "    </tr>\n",
       "  </thead>\n",
       "  <tbody>\n",
       "    <tr>\n",
       "      <th>0</th>\n",
       "      <td>1461</td>\n",
       "      <td>169277.0525</td>\n",
       "    </tr>\n",
       "    <tr>\n",
       "      <th>1</th>\n",
       "      <td>1462</td>\n",
       "      <td>187758.3940</td>\n",
       "    </tr>\n",
       "    <tr>\n",
       "      <th>2</th>\n",
       "      <td>1463</td>\n",
       "      <td>183583.6836</td>\n",
       "    </tr>\n",
       "    <tr>\n",
       "      <th>3</th>\n",
       "      <td>1464</td>\n",
       "      <td>179317.4775</td>\n",
       "    </tr>\n",
       "    <tr>\n",
       "      <th>4</th>\n",
       "      <td>1465</td>\n",
       "      <td>150730.0800</td>\n",
       "    </tr>\n",
       "    <tr>\n",
       "      <th>...</th>\n",
       "      <td>...</td>\n",
       "      <td>...</td>\n",
       "    </tr>\n",
       "    <tr>\n",
       "      <th>1454</th>\n",
       "      <td>2915</td>\n",
       "      <td>167081.2209</td>\n",
       "    </tr>\n",
       "    <tr>\n",
       "      <th>1455</th>\n",
       "      <td>2916</td>\n",
       "      <td>164788.7782</td>\n",
       "    </tr>\n",
       "    <tr>\n",
       "      <th>1456</th>\n",
       "      <td>2917</td>\n",
       "      <td>219222.4234</td>\n",
       "    </tr>\n",
       "    <tr>\n",
       "      <th>1457</th>\n",
       "      <td>2918</td>\n",
       "      <td>184924.2797</td>\n",
       "    </tr>\n",
       "    <tr>\n",
       "      <th>1458</th>\n",
       "      <td>2919</td>\n",
       "      <td>187741.8667</td>\n",
       "    </tr>\n",
       "  </tbody>\n",
       "</table>\n",
       "<p>1459 rows × 2 columns</p>\n",
       "</div>"
      ],
      "text/plain": [
       "      sqft    SalePrice\n",
       "0     1461  169277.0525\n",
       "1     1462  187758.3940\n",
       "2     1463  183583.6836\n",
       "3     1464  179317.4775\n",
       "4     1465  150730.0800\n",
       "...    ...          ...\n",
       "1454  2915  167081.2209\n",
       "1455  2916  164788.7782\n",
       "1456  2917  219222.4234\n",
       "1457  2918  184924.2797\n",
       "1458  2919  187741.8667\n",
       "\n",
       "[1459 rows x 2 columns]"
      ]
     },
     "execution_count": 3,
     "metadata": {},
     "output_type": "execute_result"
    }
   ],
   "source": [
    "df"
   ]
  },
  {
   "cell_type": "code",
   "execution_count": 4,
   "metadata": {},
   "outputs": [],
   "source": [
    "from sklearn.model_selection import train_test_split"
   ]
  },
  {
   "cell_type": "code",
   "execution_count": 5,
   "metadata": {},
   "outputs": [],
   "source": [
    "x=df.iloc[:,0:1].values\n",
    "y=df.iloc[:,-1]"
   ]
  },
  {
   "cell_type": "code",
   "execution_count": 6,
   "metadata": {},
   "outputs": [],
   "source": [
    "x_train,x_test,y_train,y_test=train_test_split(x,y,test_size=0.25,random_state=0)"
   ]
  },
  {
   "cell_type": "code",
   "execution_count": 7,
   "metadata": {},
   "outputs": [
    {
     "data": {
      "text/plain": [
       "(1094, 1)"
      ]
     },
     "execution_count": 7,
     "metadata": {},
     "output_type": "execute_result"
    }
   ],
   "source": [
    "x_train.shape"
   ]
  },
  {
   "cell_type": "code",
   "execution_count": 8,
   "metadata": {},
   "outputs": [
    {
     "data": {
      "text/plain": [
       "array([[-1.73086406],\n",
       "       [-1.72848977],\n",
       "       [-1.72611547],\n",
       "       [-1.72374117],\n",
       "       [-1.72136687]])"
      ]
     },
     "execution_count": 8,
     "metadata": {},
     "output_type": "execute_result"
    }
   ],
   "source": [
    "from sklearn.preprocessing import StandardScaler\n",
    "std=StandardScaler()\n",
    "x=std.fit_transform(x)\n",
    "x[:5]"
   ]
  },
  {
   "cell_type": "code",
   "execution_count": 9,
   "metadata": {},
   "outputs": [
    {
     "data": {
      "text/plain": [
       "LinearRegression()"
      ]
     },
     "execution_count": 9,
     "metadata": {},
     "output_type": "execute_result"
    }
   ],
   "source": [
    "from sklearn.linear_model import LinearRegression\n",
    "lr=LinearRegression()\n",
    "lr.fit(x_train,y_train)"
   ]
  },
  {
   "cell_type": "code",
   "execution_count": 10,
   "metadata": {},
   "outputs": [
    {
     "data": {
      "text/plain": [
       "array([182606.45114701, 177964.07680667, 182566.30088244, 178340.48553696,\n",
       "       177923.9265421 , 175755.81225558, 176227.57786422, 181462.1686069 ,\n",
       "       180076.98447941, 177627.81834093, 178726.9318334 , 182034.30987695,\n",
       "       182390.64347497, 177999.20828816, 181788.38950649, 177798.45696533,\n",
       "       180071.96569633, 176880.01966341, 182480.98157024, 181873.70881869,\n",
       "       180624.0318341 , 177457.17971653, 175640.38024496, 182094.5352738 ,\n",
       "       178656.66887041, 178144.75299721, 179966.57125185, 177120.9212508 ,\n",
       "       178596.44347357, 176644.13685909, 175931.46966306, 176965.33897561,\n",
       "       182295.28659663, 181622.76966516, 181110.85379196, 175655.43659417,\n",
       "       177888.79506061, 176247.65299651, 176603.98659452, 177442.12336732,\n",
       "       175745.77468944, 179655.40670147, 178240.10987555, 178741.98818262,\n",
       "       182164.79823679, 176363.08500713, 181728.16410965, 180598.93791875,\n",
       "       177050.65828781, 176282.784478  , 182129.6667553 , 181803.4458557 ,\n",
       "       182194.91093521, 182114.61040608, 179198.69744204, 179615.25643691,\n",
       "       180152.26622546, 182280.23024742, 181843.59612027, 177718.1564362 ,\n",
       "       179183.64109283, 182621.50749622, 177311.63500748, 175504.87310205,\n",
       "       181166.06040573, 180824.78315693, 177030.58315553, 178089.54638343,\n",
       "       177201.22177993, 182581.35723165, 175529.96701741, 180488.5246912 ,\n",
       "       181823.52098799, 180910.10246913, 179816.00775973, 182174.83580293,\n",
       "       181080.74109353, 177828.56966376, 178546.25564286, 180885.00855378,\n",
       "       182656.63897771, 176021.80775833, 176885.03844648, 177100.84611852,\n",
       "       179344.24215109, 176498.59215004, 180317.8860668 , 180403.205379  ,\n",
       "       176192.44638273, 181135.94770731, 180619.01305103, 180428.29929435,\n",
       "       179424.54268022, 178365.57945232, 175555.06093276, 178059.43368501,\n",
       "       178054.41490194, 180137.20987625, 180558.78765419, 182004.19717853,\n",
       "       176980.39532482, 182420.75617339, 177156.05273229, 181627.78844823,\n",
       "       175911.39453077, 175509.89188512, 180709.35114631, 178410.74849995,\n",
       "       177938.98289131, 177863.70114525, 178094.5651665 , 180277.73580223,\n",
       "       177040.62072167, 181828.53977106, 176097.08950439, 179414.50511408,\n",
       "       181923.8966494 , 175886.30061542, 181045.60961204, 178079.50881729,\n",
       "       181688.01384508, 176543.76119768, 178390.67336767, 175966.60114455,\n",
       "       178019.28342044, 179339.22336802, 181120.8913581 , 180694.29479709,\n",
       "       176789.68156814, 176624.06172681, 182455.88765489, 176197.4651658 ,\n",
       "       181502.31887147, 180342.97998215, 179600.20008769, 181191.15432109,\n",
       "       180774.59532622, 179550.01225699, 180302.82971758, 177788.41939919,\n",
       "       176051.92045675, 181913.85908326, 179896.30828886, 178225.05352634,\n",
       "       180373.09268057, 178335.46675389, 175710.64320795, 182245.09876592,\n",
       "       175760.83103866, 177396.95431968, 179379.37363259, 180508.59982348,\n",
       "       178189.92204484, 182435.81252261, 182526.15061788, 180854.89585535,\n",
       "       177005.48924017, 176292.82204414, 176398.21648863, 180925.15881834,\n",
       "       180433.31807742, 179309.1106696 , 176985.41410789, 176026.8265414 ,\n",
       "       177296.57865827, 181010.47813054, 179645.36913533, 179620.27521998,\n",
       "       179123.41569598, 176654.17442523, 178169.84691256, 180473.46834199,\n",
       "       180312.86728373, 178280.26014012, 177000.4704571 , 178586.40590743,\n",
       "       178706.85670112, 178355.54188618, 180849.87707228, 177903.85140982,\n",
       "       182395.66225804, 175620.30511268, 177693.06252085, 177723.17521928,\n",
       "       176609.00537759, 178962.81463772, 181321.64268092, 178285.27892319,\n",
       "       179053.15273299, 176563.83632996, 179163.56596055, 180639.08818332,\n",
       "       176408.25405477, 177075.75220316, 176839.86939884, 177662.94982243,\n",
       "       182260.15511513, 181597.67574981, 175580.15484811, 179810.98897666,\n",
       "       180568.82522033, 177140.99638308, 176759.56886971, 182255.13633206,\n",
       "       179504.84320935, 182044.3474431 , 180413.24294514, 178320.41040468,\n",
       "       175575.13606504, 177848.64479604, 180950.2527337 , 178139.73421414,\n",
       "       175750.79347251, 182757.01463913, 181492.28130533, 179459.67416172,\n",
       "       175720.68077409, 177647.89347322, 181572.58183446, 180026.7966487 ,\n",
       "       177371.86040433, 179981.62760106, 181291.5299825 , 182716.86437456,\n",
       "       177708.11887006, 177622.79955786, 180528.67495576, 176754.55008664,\n",
       "       180297.81093451, 176187.42759966, 182787.12733755, 180784.63289237,\n",
       "       179765.81992903, 179956.53368571, 177818.53209762, 175680.53050953,\n",
       "       178571.34955821, 176508.62971618, 181984.12204625, 181115.87257503,\n",
       "       175494.83553591, 175489.81675284, 180478.48712506, 180222.52918845,\n",
       "       179785.89506131, 178807.23236253, 176448.40431933, 182039.32866002,\n",
       "       176829.8318327 , 178536.21807672, 175775.88738787, 182792.14612062,\n",
       "       178601.46225664, 176694.32468979, 182767.05220527, 180122.15352704,\n",
       "       179996.68395027, 180573.8440034 , 175765.84982173, 178736.96939954,\n",
       "       181251.37971793, 177908.87019289, 180056.90934712, 178701.83791805,\n",
       "       181241.34215179, 175630.34267882, 180021.77786563, 181331.68024706,\n",
       "       182415.73739032, 177065.71463702, 177783.40061612, 176107.12707053,\n",
       "       176478.51701776, 179419.52389715, 181557.52548524, 182751.99585606,\n",
       "       179253.90405582, 178265.2037909 , 182315.36172891, 181994.15961239,\n",
       "       179228.81014047, 180985.38421519, 177301.59744134, 181617.75088209,\n",
       "       177617.78077479, 177256.42839371, 177552.53659487, 179730.68844753,\n",
       "       180874.97098764, 175790.94373708, 177994.18950509, 180443.35564356,\n",
       "       175946.52601227, 179690.53818297, 177291.5598752 , 178822.28871175,\n",
       "       175685.5492926 , 181948.99056475, 175861.20670007, 177878.75749447,\n",
       "       181773.33315728, 178927.68315623, 181632.8072313 , 176724.43738822,\n",
       "       182184.87336907, 177753.2879177 , 180498.56225734, 176418.29162091,\n",
       "       176267.72812879, 177853.66357911, 175524.94823434, 182521.13183481,\n",
       "       182169.81701986, 181602.69453288, 178134.71543107, 177547.5178118 ,\n",
       "       177085.7897693 , 179590.16252155, 182802.18368676, 181050.62839511,\n",
       "       181718.1265435 , 180654.14453253, 178049.39611887, 180869.95220457,\n",
       "       180920.14003527, 182711.84559149, 177592.68685944, 179831.06410894,\n",
       "       180864.9334215 , 178666.70643656, 182511.09426867, 178310.37283854,\n",
       "       178641.6125212 , 179700.57574911, 178972.85220386, 180353.01754829,\n",
       "       177602.72442558, 181698.05141122, 178370.59823539, 181411.9807762 ,\n",
       "       178204.97839406, 179901.32707193, 179294.05432039, 182450.86887182,\n",
       "       182430.79373953, 181918.87786633, 177949.02045745, 179539.97469085,\n",
       "       181853.63368641, 182626.52627929, 178400.71093381, 176784.66278507,\n",
       "       180578.86278647, 177683.02495471, 182536.18818402, 180107.09717783,\n",
       "       176744.5125205 , 176734.47495436, 178395.69215074, 179469.71172786,\n",
       "       181442.09347462, 181336.69903014, 181482.24373918, 181964.04691397,\n",
       "       179856.1580243 ])"
      ]
     },
     "execution_count": 10,
     "metadata": {},
     "output_type": "execute_result"
    }
   ],
   "source": [
    "y_pred=lr.predict(x_test)\n",
    "y_pred"
   ]
  },
  {
   "cell_type": "code",
   "execution_count": 11,
   "metadata": {},
   "outputs": [
    {
     "data": {
      "text/plain": [
       "(365, 1)"
      ]
     },
     "execution_count": 11,
     "metadata": {},
     "output_type": "execute_result"
    }
   ],
   "source": [
    "x_test.shape"
   ]
  },
  {
   "cell_type": "code",
   "execution_count": 12,
   "metadata": {},
   "outputs": [
    {
     "data": {
      "text/plain": [
       "1.53"
      ]
     },
     "execution_count": 12,
     "metadata": {},
     "output_type": "execute_result"
    }
   ],
   "source": [
    "np.round(lr.score(x_test,y_test)*100,2)"
   ]
  },
  {
   "cell_type": "code",
   "execution_count": 14,
   "metadata": {},
   "outputs": [
    {
     "data": {
      "image/png": "[encoded data removed]",
      "text/plain": [
       "<Figure size 432x288 with 1 Axes>"
      ]
     },
     "metadata": {
      "needs_background": "light"
     },
     "output_type": "display_data"
    }
   ],
   "source": [
    "plt.scatter(x_train,y_train,color=\"blue\")\n",
    "plt.plot(x_train,lr.predict(x_train))\n",
    "plt.title(\"houseprice\")\n",
    "plt.xlabel(\"sqrft\")\n",
    "plt.ylabel(\"saleprice\")\n",
    "plt.show()"
   ]
  },
  {
   "cell_type": "code",
   "execution_count": null,
   "metadata": {},
   "outputs": [],
   "source": []
  }
 ],
 "metadata": {
  "kernelspec": {
   "display_name": "Python 3",
   "language": "python",
   "name": "python3"
  },
  "language_info": {
   "codemirror_mode": {
    "name": "ipython",
    "version": 3
   },
   "file_extension": ".py",
   "mimetype": "text/x-python",
   "name": "python",
   "nbconvert_exporter": "python",
   "pygments_lexer": "ipython3",
   "version": "3.8.8"
  }
 },
 "nbformat": 4,
 "nbformat_minor": 4
}
